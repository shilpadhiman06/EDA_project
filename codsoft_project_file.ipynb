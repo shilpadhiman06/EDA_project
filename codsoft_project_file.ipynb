{
  "nbformat": 4,
  "nbformat_minor": 0,
  "metadata": {
    "colab": {
      "provenance": [],
      "authorship_tag": "ABX9TyNzNbbCO6np0Gx3RyIqtT1i",
      "include_colab_link": true
    },
    "kernelspec": {
      "name": "python3",
      "display_name": "Python 3"
    },
    "language_info": {
      "name": "python"
    }
  },
  "cells": [
    {
      "cell_type": "markdown",
      "metadata": {
        "id": "view-in-github",
        "colab_type": "text"
      },
      "source": [
        "<a href=\"https://colab.research.google.com/github/shilpadhiman06/EDA_project/blob/main/codsoft_project_file.ipynb\" target=\"_parent\"><img src=\"https://colab.research.google.com/assets/colab-badge.svg\" alt=\"Open In Colab\"/></a>"
      ]
    },
    {
      "cell_type": "markdown",
      "source": [
        "#  PYTHON PROJECT ON ROCK PAPER SCISSORS GAME"
      ],
      "metadata": {
        "id": "fI95tGX2k8Bq"
      }
    },
    {
      "cell_type": "code",
      "source": [
        "import random\n",
        "\n"
      ],
      "metadata": {
        "id": "hAepxmmdlU7-"
      },
      "execution_count": null,
      "outputs": []
    },
    {
      "cell_type": "code",
      "source": [
        "game_images = ['rock','paper','scissors']\n",
        "user_choice = int(input(\"enter your choice : type 0 for rock ,1 for paper,2 for scissors.\"))\n",
        "\n",
        "if user_choice>=3 or user_choice < 0:\n",
        "  print(\"you have entered invalid number,you loose.\")\n",
        "else:\n",
        "  print(game_images[user_choice])\n",
        "  comp_choice = random.randint(0,2)\n",
        "  print(\"computer chose:\")\n",
        "  print(comp_choice)\n",
        "  print(game_images[user_choice])\n",
        "  if comp_choice == user_choice:\n",
        "    print(\"it's a draw.\")\n",
        "  elif comp_choice == 0 and user_choice == 2 :\n",
        "    print(\"you loose.\")\n",
        "  elif user_choice == 0 and comp_choice ==2:\n",
        "    print(\"you win.\")\n",
        "  elif comp_choice>user_choice:\n",
        "    print(\"you lose.\")\n",
        "  elif user_choice>comp_choice:\n",
        "    print(\"you win.\")\n",
        "\n",
        "\n",
        "\n",
        "\n"
      ],
      "metadata": {
        "colab": {
          "base_uri": "https://localhost:8080/"
        },
        "id": "iyhROYR5lhEL",
        "outputId": "609da8a2-1075-445c-dcb5-ba307ae14d58"
      },
      "execution_count": null,
      "outputs": [
        {
          "output_type": "stream",
          "name": "stdout",
          "text": [
            "enter your choice : type 0 for rock ,1 for paper,2 for scissors.0\n",
            "rock\n",
            "computer chose:\n",
            "1\n",
            "rock\n",
            "you lose.\n"
          ]
        }
      ]
    },
    {
      "cell_type": "markdown",
      "source": [
        "# PYTHON PROJECT ON CONTACT BOOK\n"
      ],
      "metadata": {
        "id": "hc0787KaMMBc"
      }
    },
    {
      "cell_type": "code",
      "source": [
        "import csv\n",
        "\n",
        "class ContactBook:\n",
        "    def __init__(self, file_name):\n",
        "        self.file_name = file_name\n",
        "        self.contacts = self.load_contacts()\n",
        "\n",
        "    def load_contacts(self):\n",
        "        try:\n",
        "            with open(self.file_name, mode='r') as file:\n",
        "                reader = csv.DictReader(file)\n",
        "                contacts = [contact for contact in reader]\n",
        "                return contacts\n",
        "        except FileNotFoundError:\n",
        "            return []\n",
        "\n",
        "    def save_contacts(self):\n",
        "        with open(self.file_name, mode='w', newline='') as file:\n",
        "            fieldnames = ['Name', 'Phone', 'Email']\n",
        "            writer = csv.DictWriter(file, fieldnames=fieldnames)\n",
        "            writer.writeheader()\n",
        "            writer.writerows(self.contacts)\n",
        "\n",
        "    def add_contact(self, name, phone, email):\n",
        "        self.contacts.append({'Name': name, 'Phone': phone, 'Email': email})\n",
        "        self.save_contacts()\n",
        "\n",
        "    def list_contacts(self):\n",
        "        for contact in self.contacts:\n",
        "            print(contact)\n",
        "\n",
        "def main():\n",
        "    contact_book = ContactBook(\"contacts.csv\")\n",
        "\n",
        "    while True:\n",
        "        print(\"\\nContact Book Menu:\")\n",
        "        print(\"1. Add a contact\")\n",
        "        print(\"2. List all contacts\")\n",
        "        print(\"3. Exit\")\n",
        "        choice = input(\"Enter your choice: \")\n",
        "\n",
        "        if choice == \"1\":\n",
        "            name = input(\"Enter the name: \")\n",
        "            phone = input(\"Enter the phone number: \")\n",
        "            email = input(\"Enter the email: \")\n",
        "            contact_book.add_contact(name, phone, email)\n",
        "        elif choice == \"2\":\n",
        "            print(\"\\nContacts:\")\n",
        "            contact_book.list_contacts()\n",
        "        elif choice == \"3\":\n",
        "            break\n",
        "        else:\n",
        "            print(\"Invalid choice. Please try again.\")\n",
        "\n",
        "if __name__ == \"__main__\":\n",
        "    main()\n"
      ],
      "metadata": {
        "id": "hcsn5Ck9MEEx",
        "colab": {
          "base_uri": "https://localhost:8080/"
        },
        "outputId": "859b042b-0170-4837-ccd4-ceb58e3a02a9"
      },
      "execution_count": null,
      "outputs": [
        {
          "name": "stdout",
          "output_type": "stream",
          "text": [
            "\n",
            "Contact Book Menu:\n",
            "1. Add a contact\n",
            "2. List all contacts\n",
            "3. Exit\n",
            "Enter your choice: SHILPA\n",
            "Invalid choice. Please try again.\n",
            "\n",
            "Contact Book Menu:\n",
            "1. Add a contact\n",
            "2. List all contacts\n",
            "3. Exit\n",
            "Enter your choice: 9882483361\n",
            "Invalid choice. Please try again.\n",
            "\n",
            "Contact Book Menu:\n",
            "1. Add a contact\n",
            "2. List all contacts\n",
            "3. Exit\n",
            "Enter your choice: SHILPADHIMAN782@GMAIL.COM\n",
            "Invalid choice. Please try again.\n",
            "\n",
            "Contact Book Menu:\n",
            "1. Add a contact\n",
            "2. List all contacts\n",
            "3. Exit\n",
            "Enter your choice: 3\n"
          ]
        }
      ]
    },
    {
      "cell_type": "markdown",
      "source": [
        "# PYTHON PROJECT ON TO-DO LIST"
      ],
      "metadata": {
        "id": "aWg1dmrPRXc4"
      }
    },
    {
      "cell_type": "code",
      "source": [
        "import json\n",
        "\n",
        "class TodoList:\n",
        "    def __init__(self, file_name):\n",
        "        self.file_name = file_name\n",
        "        self.tasks = self.load_tasks()\n",
        "\n",
        "    def load_tasks(self):\n",
        "        try:\n",
        "            with open(self.file_name, 'r') as file:\n",
        "                tasks = json.load(file)\n",
        "                return tasks\n",
        "        except (FileNotFoundError, json.JSONDecodeError):\n",
        "            return []\n",
        "\n",
        "    def save_tasks(self):\n",
        "        with open(self.file_name, 'w') as file:\n",
        "            json.dump(self.tasks, file, indent=4)\n",
        "\n",
        "    def add_task(self, task_name, due_date):\n",
        "        task = {\"name\": task_name, \"due_date\": due_date, \"completed\": False}\n",
        "        self.tasks.append(task)\n",
        "        self.save_tasks()\n",
        "\n",
        "    def list_tasks(self):\n",
        "        for i, task in enumerate(self.tasks, 1):\n",
        "            status = \"✓\" if task[\"completed\"] else \" \"\n",
        "            print(f\"{i}. {status} {task['name']} (Due: {task['due_date']})\")\n",
        "\n",
        "    def mark_task_as_completed(self, task_index):\n",
        "        if 0 <= task_index < len(self.tasks):\n",
        "            self.tasks[task_index][\"completed\"] = True\n",
        "            self.save_tasks()\n",
        "        else:\n",
        "            print(\"Invalid task index.\")\n",
        "\n",
        "    def delete_task(self, task_index):\n",
        "        if 0 <= task_index < len(self.tasks):\n",
        "            del self.tasks[task_index]\n",
        "            self.save_tasks()\n",
        "        else:\n",
        "            print(\"Invalid task index.\")\n",
        "\n",
        "def main():\n",
        "    todo_list = TodoList(\"tasks.json\")\n",
        "\n",
        "    while True:\n",
        "        print(\"\\nTo-Do List Menu:\")\n",
        "        print(\"1. Add a task\")\n",
        "        print(\"2. List tasks\")\n",
        "        print(\"3. Mark task as completed\")\n",
        "        print(\"4. Delete task\")\n",
        "        print(\"5. Exit\")\n",
        "        choice = input(\"Enter your choice: \")\n",
        "\n",
        "        if choice == \"1\":\n",
        "            task_name = input(\"Enter task name: \")\n",
        "            due_date = input(\"Enter due date (optional): \")\n",
        "            todo_list.add_task(task_name, due_date)\n",
        "        elif choice == \"2\":\n",
        "            print(\"\\nTasks:\")\n",
        "            todo_list.list_tasks()\n",
        "        elif choice == \"3\":\n",
        "            task_index = int(input(\"Enter the task index to mark as completed: \")) - 1\n",
        "            todo_list.mark_task_as_completed(task_index)\n",
        "        elif choice == \"4\":\n",
        "            task_index = int(input(\"Enter the task index to delete: \")) - 1\n",
        "            todo_list.delete_task(task_index)\n",
        "        elif choice == \"5\":\n",
        "            break\n",
        "        else:\n",
        "            print(\"Invalid choice. Please try again.\")\n",
        "\n",
        "if __name__ == \"__main__\":\n",
        "    main()\n"
      ],
      "metadata": {
        "colab": {
          "base_uri": "https://localhost:8080/"
        },
        "id": "B3G9KuGeRV9x",
        "outputId": "9e3b73b7-8e42-4d5a-d237-b2ff1620e175"
      },
      "execution_count": null,
      "outputs": [
        {
          "name": "stdout",
          "output_type": "stream",
          "text": [
            "\n",
            "To-Do List Menu:\n",
            "1. Add a task\n",
            "2. List tasks\n",
            "3. Mark task as completed\n",
            "4. Delete task\n",
            "5. Exit\n",
            "Enter your choice: 2\n",
            "\n",
            "Tasks:\n",
            "\n",
            "To-Do List Menu:\n",
            "1. Add a task\n",
            "2. List tasks\n",
            "3. Mark task as completed\n",
            "4. Delete task\n",
            "5. Exit\n",
            "Enter your choice: 5\n"
          ]
        }
      ]
    },
    {
      "cell_type": "markdown",
      "source": [
        "# PYTHON PROJECT TO CREATE A CALCULATOR"
      ],
      "metadata": {
        "id": "1UPHCDUgSCxR"
      }
    },
    {
      "cell_type": "code",
      "source": [
        "# Function to add two numbers\n",
        "def add(x, y):\n",
        "    return x + y\n",
        "\n",
        "# Function to subtract two numbers\n",
        "def subtract(x, y):\n",
        "    return x - y\n",
        "\n",
        "# Function to multiply two numbers\n",
        "def multiply(x, y):\n",
        "    return x * y\n",
        "\n",
        "# Function to divide two numbers\n",
        "def divide(x, y):\n",
        "    if y != 0:\n",
        "        return x / y\n",
        "    else:\n",
        "        return \"Error: Division by zero!\"\n",
        "\n",
        "def main():\n",
        "    while True:\n",
        "        print(\"\\nSimple Calculator Menu:\")\n",
        "        print(\"1. Addition\")\n",
        "        print(\"2. Subtraction\")\n",
        "        print(\"3. Multiplication\")\n",
        "        print(\"4. Division\")\n",
        "        print(\"5. Exit\")\n",
        "\n",
        "        choice = input(\"Enter your choice (1-5): \")\n",
        "\n",
        "        if choice in ['1', '2', '3', '4']:\n",
        "            try:\n",
        "                num1 = float(input(\"Enter first number: \"))\n",
        "                num2 = float(input(\"Enter second number: \"))\n",
        "\n",
        "                if choice == '1':\n",
        "                    print(\"Result: \", add(num1, num2))\n",
        "                elif choice == '2':\n",
        "                    print(\"Result: \", subtract(num1, num2))\n",
        "                elif choice == '3':\n",
        "                    print(\"Result: \", multiply(num1, num2))\n",
        "                elif choice == '4':\n",
        "                    print(\"Result: \", divide(num1, num2))\n",
        "            except ValueError:\n",
        "                print(\"Invalid input. Please enter valid numbers.\")\n",
        "        elif choice == '5':\n",
        "            print(\"Exiting calculator. Goodbye!\")\n",
        "            break\n",
        "        else:\n",
        "            print(\"Invalid choice. Please choose a number between 1 and 5.\")\n",
        "\n",
        "if __name__ == \"__main__\":\n",
        "    main()\n"
      ],
      "metadata": {
        "colab": {
          "base_uri": "https://localhost:8080/"
        },
        "id": "q11lQSKPSRzY",
        "outputId": "4d7ad4c7-81b2-474b-8316-370c9beca361"
      },
      "execution_count": null,
      "outputs": [
        {
          "output_type": "stream",
          "name": "stdout",
          "text": [
            "\n",
            "Simple Calculator Menu:\n",
            "1. Addition\n",
            "2. Subtraction\n",
            "3. Multiplication\n",
            "4. Division\n",
            "5. Exit\n",
            "Enter your choice (1-5): 4\n",
            "Enter first number: 78\n",
            "Enter second number: 89\n",
            "Result:  0.8764044943820225\n",
            "\n",
            "Simple Calculator Menu:\n",
            "1. Addition\n",
            "2. Subtraction\n",
            "3. Multiplication\n",
            "4. Division\n",
            "5. Exit\n",
            "Enter your choice (1-5): 3\n",
            "Enter first number: 67\n",
            "Enter second number: 79\n",
            "Result:  5293.0\n",
            "\n",
            "Simple Calculator Menu:\n",
            "1. Addition\n",
            "2. Subtraction\n",
            "3. Multiplication\n",
            "4. Division\n",
            "5. Exit\n",
            "Enter your choice (1-5): 5\n",
            "Exiting calculator. Goodbye!\n"
          ]
        }
      ]
    },
    {
      "cell_type": "markdown",
      "source": [
        "PYTHON PROJECT ON PASSWORD GENERATOR"
      ],
      "metadata": {
        "id": "Acd4yiNNStP3"
      }
    },
    {
      "cell_type": "code",
      "source": [
        "import random\n",
        "import string\n",
        "\n",
        "def generate_password(length, use_uppercase, use_lowercase, use_digits, use_special_chars):\n",
        "    characters = \"\"\n",
        "\n",
        "    if use_uppercase:\n",
        "        characters += string.ascii_uppercase\n",
        "    if use_lowercase:\n",
        "        characters += string.ascii_lowercase\n",
        "    if use_digits:\n",
        "        characters += string.digits\n",
        "    if use_special_chars:\n",
        "        characters += string.punctuation\n",
        "\n",
        "    if not characters:\n",
        "        print(\"Please select at least one character type.\")\n",
        "        return\n",
        "\n",
        "    password = ''.join(random.choice(characters) for _ in range(length))\n",
        "    return password\n",
        "\n",
        "def main():\n",
        "    print(\"Password Generator\")\n",
        "    length = int(input(\"Enter the password length: \"))\n",
        "\n",
        "    use_uppercase = input(\"Include uppercase letters? (y/n): \").lower() == 'y'\n",
        "    use_lowercase = input(\"Include lowercase letters? (y/n): \").lower() == 'y'\n",
        "    use_digits = input(\"Include digits? (y/n): \").lower() == 'y'\n",
        "    use_special_chars = input(\"Include special characters? (y/n): \").lower() == 'y'\n",
        "\n",
        "    password = generate_password(length, use_uppercase, use_lowercase, use_digits, use_special_chars)\n",
        "\n",
        "    if password:\n",
        "        print(f\"Generated Password: {password}\")\n",
        "\n",
        "if __name__ == \"__main__\":\n",
        "    main()\n"
      ],
      "metadata": {
        "colab": {
          "base_uri": "https://localhost:8080/"
        },
        "id": "GfUPDQxtS9zS",
        "outputId": "5a7daa39-31cc-415e-e709-7dbba34837cd"
      },
      "execution_count": null,
      "outputs": [
        {
          "name": "stdout",
          "output_type": "stream",
          "text": [
            "Password Generator\n",
            "Enter the password length: 10\n"
          ]
        }
      ]
    }
  ]
}